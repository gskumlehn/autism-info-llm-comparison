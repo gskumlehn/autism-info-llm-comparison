{
  "nbformat": 4,
  "nbformat_minor": 0,
  "metadata": {
    "colab": {
      "provenance": [],
      "authorship_tag": "ABX9TyOV3zM1aJKIXiGygvfmK3hU",
      "include_colab_link": true
    },
    "kernelspec": {
      "name": "ir",
      "display_name": "R"
    },
    "language_info": {
      "name": "R"
    }
  },
  "cells": [
    {
      "cell_type": "markdown",
      "metadata": {
        "id": "view-in-github",
        "colab_type": "text"
      },
      "source": [
        "<a href=\"https://colab.research.google.com/github/gskumlehn/autism-info-llm-comparison/blob/main/sentiment_analysis.ipynb\" target=\"_parent\"><img src=\"https://colab.research.google.com/assets/colab-badge.svg\" alt=\"Open In Colab\"/></a>"
      ]
    },
    {
      "cell_type": "code",
      "execution_count": 38,
      "metadata": {
        "id": "MwG_-wyUGDNX"
      },
      "outputs": [],
      "source": [
        "if (!require(syuzhet)) install.packages(\"syuzhet\")\n",
        "\n",
        "library(syuzhet)"
      ]
    },
    {
      "cell_type": "code",
      "source": [
        "file_path <- \"data.csv\"\n",
        "dataset <- read.csv(file_path)\n",
        "responses <- dataset[, -1]"
      ],
      "metadata": {
        "id": "9EgDfMgHINXy"
      },
      "execution_count": 39,
      "outputs": []
    },
    {
      "cell_type": "code",
      "source": [
        "analyze_sentiments <- function(text) {\n",
        "  sentiments <- get_nrc_sentiment(text)\n",
        "  return(sentiments)\n",
        "}\n",
        "\n",
        "results <- lapply(responses, analyze_sentiments)"
      ],
      "metadata": {
        "id": "cBHshY8DIJlO"
      },
      "execution_count": 40,
      "outputs": []
    },
    {
      "cell_type": "code",
      "source": [
        "aggregated_sentiments <- lapply(results, colSums)\n",
        "df_sentiments <- do.call(rbind, aggregated_sentiments)\n",
        "df_sentiments <- data.frame(Model = rownames(df_sentiments), df_sentiments, row.names = NULL)\n",
        "print(df_sentiments)\n",
        "\n",
        "write.csv(df_sentiments, \"sentiment_analysis_results.csv\", row.names = FALSE)"
      ],
      "metadata": {
        "colab": {
          "base_uri": "https://localhost:8080/"
        },
        "id": "Oc0Gmq8iIErv",
        "outputId": "9c05546f-7f8e-43d4-cf2e-a25dccd74dae"
      },
      "execution_count": 44,
      "outputs": [
        {
          "output_type": "stream",
          "name": "stdout",
          "text": [
            "               Model anger anticipation disgust fear joy sadness surprise trust\n",
            "1                WHO    12           18       5   17  11      16        3    19\n",
            "2        ChatGPT.4.0    13           31       8   20  14      20        6    46\n",
            "3     ChatGPT.Vision    10           27       9   20  15      20        8    51\n",
            "4         ScholarGPT    13           38      12   26  29      23        9    67\n",
            "5             Gemini     9           29       8   28  12      24        7    42\n",
            "6             Llama3     4            9       4   10   3       9        2    22\n",
            "7  Bing.AI..Copilot.     8           19       6   16  13      12        4    44\n",
            "8        Google.Palm     6           29       7   19  16      17       10    57\n",
            "9             Claude     7           36       8   22  21      15       12    53\n",
            "10         ReKa.Core    16           53      11   28  36      29       18    94\n",
            "11        Solar.Mini     7           28       5   20  17      16       12    51\n",
            "   negative positive\n",
            "1        32       57\n",
            "2        34       90\n",
            "3        33       93\n",
            "4        40      126\n",
            "5        42       65\n",
            "6        19       33\n",
            "7        26       77\n",
            "8        31      100\n",
            "9        27      101\n",
            "10       57      152\n",
            "11       29       83\n"
          ]
        }
      ]
    },
    {
      "cell_type": "code",
      "source": [],
      "metadata": {
        "id": "nCV3ZnPcH6ny"
      },
      "execution_count": 42,
      "outputs": []
    }
  ]
}
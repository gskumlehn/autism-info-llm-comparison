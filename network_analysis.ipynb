{
  "nbformat": 4,
  "nbformat_minor": 0,
  "metadata": {
    "colab": {
      "provenance": [],
      "authorship_tag": "ABX9TyN4e3gkQX+d9+r3O5p6hSfC",
      "include_colab_link": true
    },
    "kernelspec": {
      "name": "ir",
      "display_name": "R"
    },
    "language_info": {
      "name": "R"
    }
  },
  "cells": [
    {
      "cell_type": "markdown",
      "metadata": {
        "id": "view-in-github",
        "colab_type": "text"
      },
      "source": [
        "<a href=\"https://colab.research.google.com/github/gskumlehn/autism-info-llm-comparison/blob/main/network_analysis.ipynb\" target=\"_parent\"><img src=\"https://colab.research.google.com/assets/colab-badge.svg\" alt=\"Open In Colab\"/></a>"
      ]
    },
    {
      "cell_type": "code",
      "execution_count": 6,
      "metadata": {
        "colab": {
          "base_uri": "https://localhost:8080/",
          "height": 292
        },
        "id": "rWUa7wAMKDrm",
        "outputId": "8687954d-f695-4bbe-a5d6-1b6f3d48f280"
      },
      "outputs": [
        {
          "output_type": "stream",
          "name": "stderr",
          "text": [
            "Installing package into ‘/usr/local/lib/R/site-library’\n",
            "(as ‘lib’ is unspecified)\n",
            "\n",
            "Installing package into ‘/usr/local/lib/R/site-library’\n",
            "(as ‘lib’ is unspecified)\n",
            "\n",
            "\u001b[1mRows: \u001b[22m\u001b[34m8\u001b[39m \u001b[1mColumns: \u001b[22m\u001b[34m12\u001b[39m\n",
            "\u001b[36m──\u001b[39m \u001b[1mColumn specification\u001b[22m \u001b[36m────────────────────────────────────────────────────────\u001b[39m\n",
            "\u001b[1mDelimiter:\u001b[22m \",\"\n",
            "\u001b[31mchr\u001b[39m (12): Questions, OMS, ChatGPT 4.0, ChatGPT Vision, ScholarGPT, Gemini, L...\n",
            "\n",
            "\u001b[36mℹ\u001b[39m Use `spec()` to retrieve the full column specification for this data.\n",
            "\u001b[36mℹ\u001b[39m Specify the column types or set `show_col_types = FALSE` to quiet this message.\n"
          ]
        },
        {
          "output_type": "display_data",
          "data": {
            "text/html": [
              "<style>\n",
              ".list-inline {list-style: none; margin:0; padding: 0}\n",
              ".list-inline>li {display: inline-block}\n",
              ".list-inline>li:not(:last-child)::after {content: \"\\00b7\"; padding: 0 .5ex}\n",
              "</style>\n",
              "<ol class=list-inline><li>'Questions'</li><li>'OMS'</li><li>'ChatGPT 4.0'</li><li>'ChatGPT Vision'</li><li>'ScholarGPT'</li><li>'Gemini'</li><li>'Llama3'</li><li>'Bing AI (Copilot)'</li><li>'Google Palm'</li><li>'Claude'</li><li>'ReKa Core'</li><li>'Solar Mini'</li></ol>\n"
            ],
            "text/markdown": "1. 'Questions'\n2. 'OMS'\n3. 'ChatGPT 4.0'\n4. 'ChatGPT Vision'\n5. 'ScholarGPT'\n6. 'Gemini'\n7. 'Llama3'\n8. 'Bing AI (Copilot)'\n9. 'Google Palm'\n10. 'Claude'\n11. 'ReKa Core'\n12. 'Solar Mini'\n\n\n",
            "text/latex": "\\begin{enumerate*}\n\\item 'Questions'\n\\item 'OMS'\n\\item 'ChatGPT 4.0'\n\\item 'ChatGPT Vision'\n\\item 'ScholarGPT'\n\\item 'Gemini'\n\\item 'Llama3'\n\\item 'Bing AI (Copilot)'\n\\item 'Google Palm'\n\\item 'Claude'\n\\item 'ReKa Core'\n\\item 'Solar Mini'\n\\end{enumerate*}\n",
            "text/plain": [
              " [1] \"Questions\"         \"OMS\"               \"ChatGPT 4.0\"      \n",
              " [4] \"ChatGPT Vision\"    \"ScholarGPT\"        \"Gemini\"           \n",
              " [7] \"Llama3\"            \"Bing AI (Copilot)\" \"Google Palm\"      \n",
              "[10] \"Claude\"            \"ReKa Core\"         \"Solar Mini\"       "
            ]
          },
          "metadata": {}
        }
      ],
      "source": [
        "install.packages(\"stopwords\")\n",
        "library(stopwords)\n",
        "install.packages(\"tidytext\")\n",
        "library(tidytext)\n",
        "\n",
        "library(readr)\n",
        "library(dplyr)\n",
        "library(tidyr)\n",
        "\n",
        "dataset <- read_csv(\"data.csv\")\n",
        "colnames(dataset)\n"
      ]
    },
    {
      "cell_type": "code",
      "source": [
        "responses <- dataset %>%\n",
        "  pivot_longer(cols = -Questions, names_to = \"network\", values_to = \"text\") %>%\n",
        "  group_by(network) %>%\n",
        "  summarise(text = paste(text, collapse = \" \"), .groups = 'drop')\n"
      ],
      "metadata": {
        "id": "21e9AFU4KrT2"
      },
      "execution_count": 7,
      "outputs": []
    },
    {
      "cell_type": "code",
      "source": [
        "stopwords_en <- stopwords(\"en\")\n",
        "custom_stopwords <- c(stopwords_en, \"asd\", \"e.g\", \"co\", \"1\", \"can\", \"often\", \"may\", \"many\", \"early\", \"well\")\n",
        "\n",
        "top_words_per_network <- responses %>%\n",
        "  unnest_tokens(word, text) %>%\n",
        "  filter(!(word %in% custom_stopwords)) %>%\n",
        "  count(network, word, sort = TRUE) %>%\n",
        "  group_by(network) %>%\n",
        "  top_n(15, n) %>%\n",
        "  ungroup()\n"
      ],
      "metadata": {
        "id": "GIBnrPu-Ks61"
      },
      "execution_count": 10,
      "outputs": []
    },
    {
      "cell_type": "code",
      "source": [
        "write.csv(top_words_per_network, \"top_words_per_network.csv\", row.names = TRUE)"
      ],
      "metadata": {
        "id": "GSv6-so4sR7O"
      },
      "execution_count": 11,
      "outputs": []
    }
  ]
}
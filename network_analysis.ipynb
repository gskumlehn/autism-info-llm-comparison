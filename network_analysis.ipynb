{
  "nbformat": 4,
  "nbformat_minor": 0,
  "metadata": {
    "colab": {
      "provenance": [],
      "authorship_tag": "ABX9TyNBSkbJaaeXaPGEtHvggF6E",
      "include_colab_link": true
    },
    "kernelspec": {
      "name": "ir",
      "display_name": "R"
    },
    "language_info": {
      "name": "R"
    }
  },
  "cells": [
    {
      "cell_type": "markdown",
      "metadata": {
        "id": "view-in-github",
        "colab_type": "text"
      },
      "source": [
        "<a href=\"https://colab.research.google.com/github/gskumlehn/autism-info-llm-comparison/blob/main/network_analysis.ipynb\" target=\"_parent\"><img src=\"https://colab.research.google.com/assets/colab-badge.svg\" alt=\"Open In Colab\"/></a>"
      ]
    },
    {
      "cell_type": "code",
      "execution_count": null,
      "metadata": {
        "colab": {
          "base_uri": "https://localhost:8080/"
        },
        "id": "rWUa7wAMKDrm",
        "outputId": "1256dd03-18fe-478b-def1-f5666d86264d"
      },
      "outputs": [
        {
          "output_type": "stream",
          "name": "stderr",
          "text": [
            "Installing packages into ‘/usr/local/lib/R/site-library’\n",
            "(as ‘lib’ is unspecified)\n",
            "\n",
            "also installing the dependencies ‘RcppArmadillo’, ‘graphlayouts’\n",
            "\n",
            "\n"
          ]
        }
      ],
      "source": [
        "# Instalar pacotes necessários\n",
        "install.packages(c(\"tidytext\", \"dplyr\", \"ggplot2\", \"igraph\", \"ggraph\", \"readr\"))\n",
        "\n",
        "# Carregar bibliotecas\n",
        "library(tidytext)\n",
        "library(dplyr)\n",
        "library(igraph)\n",
        "library(ggraph)\n",
        "library(ggplot2)\n",
        "library(readr)\n",
        "\n",
        "# Ler o arquivo CSV\n",
        "data <- read_csv(\"data.csv\")\n",
        "\n",
        "# Extrair as colunas de interesse (perguntas e respostas)\n",
        "responses <- data %>%\n",
        "  select(Questions, WHO, `ChatGPT 4.0`, `ChatGPT Vision`, ScholarGPT, Gemini, Llama3, `Bing AI (Copilot)`, `Google Palm`, Claude, `ReKa Core`, `Solar Mini`) %>%\n",
        "  pivot_longer(cols = -Questions, names_to = \"network\", values_to = \"text\")\n",
        "\n",
        "# Visualizar os dados\n",
        "print(responses)"
      ]
    },
    {
      "cell_type": "code",
      "source": [
        "# Extrair as 15 palavras mais frequentes para cada rede\n",
        "frequent_words <- responses %>%\n",
        "  unnest_tokens(word, text) %>%\n",
        "  count(network, word, sort = TRUE) %>%\n",
        "  group_by(network) %>%\n",
        "  top_n(15, n) %>%\n",
        "  ungroup()\n",
        "\n",
        "# Visualizar as palavras mais frequentes\n",
        "print(frequent_words)"
      ],
      "metadata": {
        "id": "21e9AFU4KrT2"
      },
      "execution_count": null,
      "outputs": []
    },
    {
      "cell_type": "code",
      "source": [
        "# Criar dados do grafo\n",
        "edges <- frequent_words %>%\n",
        "  select(network, word) %>%\n",
        "  rename(from = network, to = word)\n",
        "\n",
        "# Criar o objeto do grafo\n",
        "graph <- graph_from_data_frame(edges, directed = FALSE)\n",
        "\n",
        "# Definir atributos dos nós\n",
        "node_attributes <- data.frame(\n",
        "  name = V(graph)$name,\n",
        "  type = ifelse(V(graph)$name %in% responses$network, \"Network\", \"Word\")\n",
        ")\n",
        "\n",
        "# Adicionar atributos ao grafo\n",
        "V(graph)$type <- node_attributes$type\n",
        "\n",
        "# Definir cores para redes e palavras\n",
        "network_colors <- c(\"WHO\" = \"#1f77b4\", \"ChatGPT 4.0\" = \"#1f77b4\", \"ChatGPT Vision\" = \"#2ca02c\",\n",
        "                    \"ScholarGPT\" = \"#d62728\", \"Gemini\" = \"#9467bd\", \"Llama3\" = \"#e377c2\",\n",
        "                    \"Bing AI (Copilot)\" = \"#8c564b\", \"Google Palm\" = \"#17becf\",\n",
        "                    \"Claude\" = \"#7f7f7f\", \"ReKa Core\" = \"#aec7e8\", \"Solar Mini\" = \"#ff7f0e\")\n",
        "\n",
        "word_color <- \"darkorange\"\n",
        "\n",
        "# Atribuir cores com base no tipo de nó\n",
        "node_colors <- ifelse(V(graph)$name %in% names(network_colors),\n",
        "                      network_colors[V(graph)$name], word_color)\n",
        "\n",
        "# Plotar o grafo\n",
        "ggraph(graph, layout = \"fr\") +\n",
        "  geom_edge_link(aes(edge_alpha = 0.5), color = \"gray\") +\n",
        "  geom_node_point(aes(color = name), size = 10, show.legend = FALSE) +\n",
        "  geom_node_text(aes(label = name), repel = TRUE, size = 5) +\n",
        "  scale_color_manual(values = c(network_colors, word = word_color)) +\n",
        "  theme_void() +\n",
        "  labs(title = \"Grafo de Co-ocorrência de Palavras\", subtitle = \"Redes e Palavras Mais Comuns\")"
      ],
      "metadata": {
        "id": "GIBnrPu-Ks61"
      },
      "execution_count": null,
      "outputs": []
    },
    {
      "cell_type": "code",
      "source": [
        "# Carregar bibliotecas\n",
        "library(tidytext)\n",
        "library(dplyr)\n",
        "\n",
        "# Carregar a lista de stop words em inglês\n",
        "data(\"stop_words\")\n",
        "\n",
        "# Extrair as 15 palavras mais frequentes para cada rede, removendo stop words\n",
        "frequent_words <- responses %>%\n",
        "  unnest_tokens(word, text) %>%\n",
        "  anti_join(stop_words, by = \"word\") %>%  # Remove stop words\n",
        "  count(network, word, sort = TRUE) %>%\n",
        "  group_by(network) %>%\n",
        "  top_n(15, n) %>%\n",
        "  ungroup()\n",
        "\n",
        "# Visualizar as palavras mais frequentes após a remoção das stop words\n",
        "print(frequent_words)"
      ],
      "metadata": {
        "id": "Yd3_47H6LAux"
      },
      "execution_count": null,
      "outputs": []
    },
    {
      "cell_type": "code",
      "source": [
        "# Criar dados do grafo\n",
        "edges <- frequent_words %>%\n",
        "  select(network, word) %>%\n",
        "  rename(from = network, to = word)\n",
        "\n",
        "# Criar o objeto do grafo\n",
        "graph <- graph_from_data_frame(edges, directed = FALSE)\n",
        "\n",
        "# Definir atributos dos nós\n",
        "node_attributes <- data.frame(\n",
        "  name = V(graph)$name,\n",
        "  type = ifelse(V(graph)$name %in% responses$network, \"Network\", \"Word\")\n",
        ")\n",
        "\n",
        "# Adicionar atributos ao grafo\n",
        "V(graph)$type <- node_attributes$type\n",
        "\n",
        "# Definir cores para redes e palavras\n",
        "network_colors <- c(\"WHO\" = \"#1f77b4\", \"ChatGPT 4.0\" = \"#1f77b4\", \"ChatGPT Vision\" = \"#2ca02c\",\n",
        "                    \"ScholarGPT\" = \"#d62728\", \"Gemini\" = \"#9467bd\", \"Llama3\" = \"#e377c2\",\n",
        "                    \"Bing AI (Copilot)\" = \"#8c564b\", \"Google Palm\" = \"#17becf\",\n",
        "                    \"Claude\" = \"#7f7f7f\", \"ReKa Core\" = \"#aec7e8\", \"Solar Mini\" = \"#ff7f0e\")\n",
        "\n",
        "word_color <- \"darkorange\"\n",
        "\n",
        "# Atribuir cores com base no tipo de nó\n",
        "node_colors <- ifelse(V(graph)$name %in% names(network_colors),\n",
        "                      network_colors[V(graph)$name], word_color)\n",
        "\n",
        "# Plotar o grafo\n",
        "ggraph(graph, layout = \"fr\") +\n",
        "  geom_edge_link(aes(edge_alpha = 0.5), color = \"gray\") +\n",
        "  geom_node_point(aes(color = name), size = 10, show.legend = FALSE) +\n",
        "  geom_node_text(aes(label = name), repel = TRUE, size = 5) +\n",
        "  scale_color_manual(values = c(network_colors, word = word_color)) +\n",
        "  theme_void() +\n",
        "  labs(title = \"Grafo de Co-ocorrência de Palavras\", subtitle = \"Redes e Palavras Mais Comuns (sem stop words)\")"
      ],
      "metadata": {
        "id": "0DRvf-B5LDiT"
      },
      "execution_count": null,
      "outputs": []
    }
  ]
}